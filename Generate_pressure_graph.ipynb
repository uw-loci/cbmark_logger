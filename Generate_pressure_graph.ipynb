{
 "cells": [
  {
   "cell_type": "code",
   "execution_count": null,
   "id": "5eae83d9",
   "metadata": {},
   "outputs": [],
   "source": [
    "! pip install numpy\n",
    "! pip install pandas\n",
    "! pip install matplotlib\n",
    "! pip install Ipython"
   ]
  },
  {
   "cell_type": "code",
   "execution_count": null,
   "id": "966485d6",
   "metadata": {},
   "outputs": [],
   "source": [
    "#Import Relevant Modules\n",
    "import re\n",
    "from datetime import datetime, date\n",
    "from time import sleep\n",
    "import csv\n",
    "import numpy as np\n",
    "import pandas as pd\n",
    "import matplotlib.pyplot as plt\n",
    "import os\n",
    "from IPython.display import clear_output\n",
    "from matplotlib.ticker import MaxNLocator\n",
    "import matplotlib.dates as mdates"
   ]
  },
  {
   "cell_type": "code",
   "execution_count": null,
   "id": "b8aedf10",
   "metadata": {},
   "outputs": [],
   "source": [
    "#Retrive today's date\n",
    "date = date.today()"
   ]
  },
  {
   "cell_type": "code",
   "execution_count": null,
   "id": "dd672fab",
   "metadata": {},
   "outputs": [],
   "source": [
    "def getPressureData(filename):\n",
    "    '''\n",
    "    Extract pressure data from txt file\n",
    "\n",
    "    @param:\n",
    "        filename -> str\n",
    "    \n",
    "    @return:\n",
    "        2D list of Time and Pressure -> list\n",
    "    '''\n",
    "    \n",
    "    data = []                          \n",
    "    pressure_pattern = re.compile(r'\\[(\\d{2}:\\d{2}:\\d{2})\\].*?pressure:\\s*([0-9.]+E[-+]?\\d+)', re.I)\n",
    "    \n",
    "    with open(filename, \"r\") as f:\n",
    "        for line in f:\n",
    "            p = pressure_pattern.search(line)\n",
    "            if p:\n",
    "                time_str = p.group(1)\n",
    "                pressure = p.group(2)\n",
    "                log_time = datetime.strptime(time_str, \"%H:%M:%S\").time()\n",
    "\n",
    "                data.append((log_time, pressure))\n",
    "    return data"
   ]
  },
  {
   "cell_type": "code",
   "execution_count": null,
   "id": "9df2e874",
   "metadata": {},
   "outputs": [],
   "source": [
    "def createPressureCSV(pressure_data):\n",
    "    '''\n",
    "\n",
    "    @param:\n",
    "    pressure_data: list of data -> list\n",
    "    '''\n",
    "    #Using 'w' to overwrite existing\n",
    "    with open(f'pressure_log-'+ str(date) + '.csv', 'w', newline='') as out:\n",
    "        writer = csv.writer(out)\n",
    "        writer.writerow(['Time', 'Pressure (mbar)'])   # header\n",
    "        writer.writerows(pressure_data)\n",
    "    print(f'{len(pressure_data)} rows written to pressure_log-'+ str(date) + '.csv')"
   ]
  },
  {
   "cell_type": "code",
   "execution_count": null,
   "id": "a5fa8ea5",
   "metadata": {},
   "outputs": [],
   "source": [
    "def getPressureGraph(csv_file, start_time='00:00:01', end_time='23:59:59', time_list = []):\n",
    "    '''\n",
    "    Displays Pressure Graph\n",
    "\n",
    "    @param:\n",
    "        csv_file : File Name -> str\n",
    "        start_time : -> str\n",
    "        end_time : -> str\n",
    "    \n",
    "    '''\n",
    "    result = pd.read_csv(csv_file, parse_dates=['Time'])\n",
    "\n",
    "    data = result.to_numpy()\n",
    "\n",
    "    #Check if time exists to provide warning\n",
    "    if (result.loc[result['Time'] == start_time]).empty:\n",
    "        print(\"Start Time does not exist, using default start time\")\n",
    "\n",
    "    if (result.loc[result['Time'] == end_time]).empty:\n",
    "        print(\"End Time does not exist, using default end time\")\n",
    "\n",
    "    # Filter by time range\n",
    "    filtered = result[(result['Time'] >= start_time) & (result['Time'] <= end_time)]\n",
    "    average = filtered.iloc[:,1].to_numpy().mean()\n",
    "\n",
    "    \n",
    "    highlight = result[result['Time'].isin(time_list)]\n",
    "    print(highlight) \n",
    "    \n",
    "\n",
    "    fig = plt.figure(figsize=(12,10))\n",
    "    gs = fig.add_gridspec(4,1)\n",
    "\n",
    "    ax1 = fig.add_subplot(gs[:3,0])\n",
    "    ax1.plot(filtered['Time'].to_numpy(), filtered['Pressure (mbar)'].to_numpy())\n",
    "    ax1.scatter(highlight['Time'], highlight['Pressure (mbar)'],  color='red', label='High Pressure')\n",
    "    ax1.grid()\n",
    "    ax1.set_title('Pressure x Time')\n",
    "    ax1.set_xlabel(\"Time\")\n",
    "    ax1.set_ylabel(\"Pressure mbar (E-6)\")\n",
    "\n",
    "    # Set number of X axis tick marks\n",
    "    ax1.xaxis.set_major_locator(MaxNLocator(nbins=20))\n",
    "\n",
    "    # Format x-axis to show only the time (HH:MM)\n",
    "    time_format = mdates.DateFormatter('%H:%M:%S')\n",
    "    ax1.xaxis.set_major_formatter(time_format)\n",
    "\n",
    "    # Rotate x axis labels\n",
    "    ax1.figure.autofmt_xdate()\n",
    "\n",
    "    plt.show()"
   ]
  },
  {
   "cell_type": "code",
   "execution_count": null,
   "id": "1ba7c9f1",
   "metadata": {},
   "outputs": [],
   "source": [
    "createPressureCSV(getPressureData('Data samples/log_export_2025-06-09_17-10-43.txt'))\n",
    "getPressureGraph(f'pressure_log-'+ str(date) + '.csv')"
   ]
  },
  {
   "cell_type": "code",
   "execution_count": null,
   "id": "83df8af2",
   "metadata": {},
   "outputs": [],
   "source": [
    "while 1 :\n",
    "    createPressureCSV(getPressureData('Data samples/log_export_2025-06-09_17-10-43.txt'))\n",
    "    getPressureGraph(f'pressure_log-'+ str(date) + '.csv')\n",
    "    sleep(10)\n",
    "    clear_output(wait=True)"
   ]
  }
 ],
 "metadata": {
  "kernelspec": {
   "display_name": "Python 3",
   "language": "python",
   "name": "python3"
  },
  "language_info": {
   "codemirror_mode": {
    "name": "ipython",
    "version": 3
   },
   "file_extension": ".py",
   "mimetype": "text/x-python",
   "name": "python",
   "nbconvert_exporter": "python",
   "pygments_lexer": "ipython3",
   "version": "3.11.9"
  }
 },
 "nbformat": 4,
 "nbformat_minor": 5
}
