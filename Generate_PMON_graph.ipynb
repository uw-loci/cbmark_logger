{
 "cells": [
  {
   "cell_type": "code",
   "execution_count": 17,
   "id": "966485d6",
   "metadata": {},
   "outputs": [],
   "source": [
    "#Import Relevant Modules\n",
    "import re\n",
    "from datetime import datetime, date\n",
    "from time import sleep\n",
    "import csv\n",
    "import numpy as np\n",
    "import pandas as pd\n",
    "import matplotlib.pyplot as plt\n",
    "import os\n",
    "from IPython.display import clear_output\n",
    "from matplotlib.ticker import MaxNLocator\n",
    "import matplotlib.dates as mdates"
   ]
  },
  {
   "cell_type": "code",
   "execution_count": 18,
   "id": "b8aedf10",
   "metadata": {},
   "outputs": [],
   "source": [
    "#Retrive today's date\n",
    "date = date.today()"
   ]
  },
  {
   "cell_type": "code",
   "execution_count": 19,
   "id": "71929d84",
   "metadata": {},
   "outputs": [],
   "source": [
    "def getPMONData(filename):\n",
    "    '''\n",
    "    Extract PMON Temperature data from txt file\n",
    "\n",
    "    @param:\n",
    "        filename -> str\n",
    "    @return:\n",
    "        list with data from each PMON\n",
    "    '''\n",
    "    \n",
    "    data = [] \n",
    "    pmon_pattern = re.compile(r'\\[(\\d{2}:\\d{2}:\\d{2})\\].*?PMON\\s+temps:\\s*(\\{[^}]+\\})', re.I)\n",
    "    with open(filename, \"r\") as f:\n",
    "        for line in f:\n",
    "            p = pmon_pattern.search(line)\n",
    "            if p:\n",
    "                time_str = p.group(1)\n",
    "                log_time = datetime.strptime(time_str, \"%H:%M:%S\").time()\n",
    "                \n",
    "                pmon_dict = eval(p.group(2))\n",
    "                pmon_1 = pmon_dict[1]\n",
    "                pmon_2 = pmon_dict[2]\n",
    "                pmon_3 = pmon_dict[3]\n",
    "                pmon_4 = pmon_dict[4]\n",
    "                pmon_5 = pmon_dict[5]\n",
    "                pmon_6 = pmon_dict[6]\n",
    "\n",
    "                data.append((log_time, pmon_1, pmon_2, pmon_3, pmon_4, pmon_5, pmon_6))\n",
    "    return data"
   ]
  },
  {
   "cell_type": "code",
   "execution_count": 20,
   "id": "cf185ddf",
   "metadata": {},
   "outputs": [],
   "source": [
    "def createPMONCSV(pmon_data):\n",
    "    '''\n",
    "\n",
    "    @param:\n",
    "    pmon_data: list of data -> list\n",
    "    '''\n",
    "    with open(f'pmon_log-{str(date)}.csv', 'w', newline='') as out:\n",
    "        writer = csv.writer(out)\n",
    "        writer.writerow(['Time', 'PMON 1', 'PMON_2', 'PMON_3', 'PMON_4', 'PMON_5', 'PMON_6'])   # header\n",
    "        writer.writerows(pmon_data)\n",
    "\n",
    "    print(f'{len(pmon_data)} rows written to pmon_log-{str(date)}.csv')"
   ]
  },
  {
   "cell_type": "code",
   "execution_count": null,
   "id": "7a53ee82",
   "metadata": {},
   "outputs": [],
   "source": [
    "def getPMONGraph(csv_file, start_time = '00:00:01', end_time = '23:59:59'):\n",
    "    '''\n",
    "    Displays PMON Graph\n",
    "\n",
    "    args:\n",
    "        csv_file : File name -> str\n",
    "        start_time : -> str\n",
    "    \n",
    "    '''\n",
    "    pmon_result = pd.read_csv(csv_file, parse_dates=['Time'])\n",
    "    pmon_result = pmon_result.to_numpy()\n",
    "    time_DNE = False\n",
    "\n",
    "    time = pmon_result[:,0]\n",
    "    pmon_data = {}\n",
    "\n",
    "    try:\n",
    "        start_index = time.tolist().index(str(start_time))\n",
    "        end_index = time.tolist().index(str(end_time))\n",
    "    except ValueError:\n",
    "        print(\"Timeframe does not exist\")\n",
    "        time_DNE = True\n",
    "\n",
    "    ports = {1:'PMON_1', 2:'PMON_2', 3:'PMON_3', 4:'PMON_4', 5:'PMON_5', 6:'PMON_6'}\n",
    "\n",
    "    for idx, value in ports.items():\n",
    "        if time_DNE == True:\n",
    "            pmon_data[value] = pmon_result[:, idx].tolist()\n",
    "        elif time_DNE == False:\n",
    "            pmon_data[value] = pmon_result[start_index:end_index, idx].tolist()\n",
    "\n",
    "    #Method 1 - Completely remove the disconnected value (data will be shorter than the rest)\n",
    "    #for key in ports.values():\n",
    "    #    pmon_data[key] = [float(x) for x in pmon_data[key] if x not in ('DISCONNECTED','SENSOR_ERROR')]\n",
    "\n",
    "    #Method 2 - fill data points that are disconnected with previous value\n",
    "    for key in ports.values():\n",
    "        if pmon_data[key][0] in ['DISCONNECTED','SENSOR_ERROR', 'None']:\n",
    "            pmon_data[key] = [float(x) for x in pmon_data[key] if x not in ('DISCONNECTED','SENSOR_ERROR', 'None')]\n",
    "        else:\n",
    "            for i in range(len(pmon_data[key])):\n",
    "                if pmon_data[key][i] in ['DISCONNECTED','SENSOR_ERROR','None']:\n",
    "                    pmon_data[key][i] = pmon_data[key][i - 1]\n",
    "            pmon_data[key] = [float(x) for x in pmon_data[key]]\n",
    "\n",
    "\n",
    "    fig = plt.figure(figsize=(12,10))\n",
    "    ax = fig.add_subplot()\n",
    "    \n",
    "    for key in ports.values():\n",
    "        if pmon_data[key]:\n",
    "            print(f'Average Temperature for {key}: {np.mean(pmon_data[key])}')\n",
    "        else:\n",
    "            print(f'No data from {key}')\n",
    "        ax.plot(pmon_data[key], label=key)\n",
    "    \n",
    "    ax.set_xlabel('Time Elapsed (s)')\n",
    "    ax.set_ylabel('Temperature (°C)')\n",
    "    ax.set_title('Temperature Graph')\n",
    "    ax.grid()\n",
    "    ax.legend(loc='upper right')\n",
    "\n",
    "    # Set number of X axis tick marks\n",
    "    ax.xaxis.set_major_locator(MaxNLocator(nbins=20))\n",
    "\n",
    "    # Format x-axis to show only the time (HH:MM)\n",
    "    time_format = mdates.DateFormatter('%H:%M:%S')\n",
    "    ax.xaxis.set_major_formatter(time_format)\n",
    "\n",
    "    # Rotate x axis labels\n",
    "    ax.figure.autofmt_xdate()\n",
    "\n",
    "    plt.show()\n"
   ]
  },
  {
   "cell_type": "code",
   "execution_count": 26,
   "id": "9b104885",
   "metadata": {},
   "outputs": [
    {
     "name": "stdout",
     "output_type": "stream",
     "text": [
      "24108 rows written to pmon_log-2025-06-10.csv\n"
     ]
    },
    {
     "name": "stderr",
     "output_type": "stream",
     "text": [
      "C:\\Users\\Ian\\AppData\\Local\\Temp\\ipykernel_16684\\1460648327.py:10: UserWarning: Could not infer format, so each element will be parsed individually, falling back to `dateutil`. To ensure parsing is consistent and as-expected, please specify a format.\n",
      "  pmon_result = pd.read_csv(csv_file, parse_dates=['Time'])\n"
     ]
    },
    {
     "name": "stdout",
     "output_type": "stream",
     "text": [
      "Timeframe does not exist\n",
      "Average Temperature for PMON_1: nan\n",
      "Average Temperature for PMON_2: nan\n",
      "Average Temperature for PMON_3: nan\n",
      "Average Temperature for PMON_4: nan\n",
      "Average Temperature for PMON_5: nan\n",
      "Average Temperature for PMON_6: nan\n"
     ]
    },
    {
     "ename": "IndexError",
     "evalue": "only integers, slices (`:`), ellipsis (`...`), numpy.newaxis (`None`) and integer or boolean arrays are valid indices",
     "output_type": "error",
     "traceback": [
      "\u001b[31m---------------------------------------------------------------------------\u001b[39m",
      "\u001b[31mIndexError\u001b[39m                                Traceback (most recent call last)",
      "\u001b[36mCell\u001b[39m\u001b[36m \u001b[39m\u001b[32mIn[26]\u001b[39m\u001b[32m, line 2\u001b[39m\n\u001b[32m      1\u001b[39m createPMONCSV(getPMONData(\u001b[33m'\u001b[39m\u001b[33mData samples/log_export_2025-06-09_17-10-43.txt\u001b[39m\u001b[33m'\u001b[39m))\n\u001b[32m----> \u001b[39m\u001b[32m2\u001b[39m \u001b[43mgetPMONGraph\u001b[49m\u001b[43m(\u001b[49m\u001b[33;43mf\u001b[39;49m\u001b[33;43m'\u001b[39;49m\u001b[33;43mpmon_log-\u001b[39;49m\u001b[38;5;132;43;01m{\u001b[39;49;00m\u001b[38;5;28;43mstr\u001b[39;49m\u001b[43m(\u001b[49m\u001b[43mdate\u001b[49m\u001b[43m)\u001b[49m\u001b[38;5;132;43;01m}\u001b[39;49;00m\u001b[33;43m.csv\u001b[39;49m\u001b[33;43m'\u001b[39;49m\u001b[43m)\u001b[49m\n",
      "\u001b[36mCell\u001b[39m\u001b[36m \u001b[39m\u001b[32mIn[25]\u001b[39m\u001b[32m, line 56\u001b[39m, in \u001b[36mgetPMONGraph\u001b[39m\u001b[34m(csv_file, start_time, end_time)\u001b[39m\n\u001b[32m     53\u001b[39m     \u001b[38;5;28;01melse\u001b[39;00m:\n\u001b[32m     54\u001b[39m         \u001b[38;5;28mprint\u001b[39m(\u001b[33mf\u001b[39m\u001b[33m'\u001b[39m\u001b[33mNo data from \u001b[39m\u001b[38;5;132;01m{\u001b[39;00mkey\u001b[38;5;132;01m}\u001b[39;00m\u001b[33m'\u001b[39m)\n\u001b[32m---> \u001b[39m\u001b[32m56\u001b[39m ax.plot(\u001b[43mpmon_result\u001b[49m\u001b[43m[\u001b[49m\u001b[33;43m'\u001b[39;49m\u001b[33;43mTime\u001b[39;49m\u001b[33;43m'\u001b[39;49m\u001b[43m]\u001b[49m, pmon_result[\u001b[33m'\u001b[39m\u001b[33mPMON_1\u001b[39m\u001b[33m'\u001b[39m])\n\u001b[32m     58\u001b[39m ax.set_xlabel(\u001b[33m'\u001b[39m\u001b[33mTime Elapsed (s)\u001b[39m\u001b[33m'\u001b[39m)\n\u001b[32m     59\u001b[39m ax.set_ylabel(\u001b[33m'\u001b[39m\u001b[33mTemperature (°C)\u001b[39m\u001b[33m'\u001b[39m)\n",
      "\u001b[31mIndexError\u001b[39m: only integers, slices (`:`), ellipsis (`...`), numpy.newaxis (`None`) and integer or boolean arrays are valid indices"
     ]
    },
    {
     "data": {
      "image/png": "[encoded data removed]",
      "text/plain": [
       "<Figure size 1200x1000 with 1 Axes>"
      ]
     },
     "metadata": {},
     "output_type": "display_data"
    }
   ],
   "source": [
    "createPMONCSV(getPMONData('Data samples/log_export_2025-06-09_17-10-43.txt'))\n",
    "getPMONGraph(f'pmon_log-{str(date)}.csv')"
   ]
  },
  {
   "cell_type": "code",
   "execution_count": null,
   "id": "7c811475",
   "metadata": {},
   "outputs": [],
   "source": [
    "while 1 :\n",
    "    createPMONCSV(getPMONData('log_export_2025-06-09_17-10-43.txt'))\n",
    "    getPMONGraph(f'pmon_log-{str(date)}.csv')\n",
    "    sleep(10)\n",
    "    clear_output(wait=True)"
   ]
  }
 ],
 "metadata": {
  "kernelspec": {
   "display_name": "Python 3",
   "language": "python",
   "name": "python3"
  },
  "language_info": {
   "codemirror_mode": {
    "name": "ipython",
    "version": 3
   },
   "file_extension": ".py",
   "mimetype": "text/x-python",
   "name": "python",
   "nbconvert_exporter": "python",
   "pygments_lexer": "ipython3",
   "version": "3.13.4"
  }
 },
 "nbformat": 4,
 "nbformat_minor": 5
}
